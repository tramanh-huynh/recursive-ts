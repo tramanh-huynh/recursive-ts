{
 "cells": [
  {
   "cell_type": "code",
   "execution_count": 74,
   "id": "31883063",
   "metadata": {},
   "outputs": [],
   "source": [
    "import matplotlib.pyplot as plt\n",
    "import pandas as pd\n",
    "from sklearn.linear_model import LinearRegression\n",
    "from sklearn.metrics import mean_squared_error, mean_absolute_error, r2_score\n"
   ]
  },
  {
   "cell_type": "code",
   "execution_count": 64,
   "id": "eb61903f",
   "metadata": {},
   "outputs": [],
   "source": [
    "def create_ts_data(data,target, window_size = 5):\n",
    "    i = 1\n",
    "    while i < window_size:\n",
    "        data[\"co2_{}\".format(i)] = data[\"co2\"].shift(-i)\n",
    "        i += 1\n",
    "    data[\"target\"] = data[\"co2\"].shift(-i)\n",
    "    data = data.dropna(axis=0)\n",
    "    return data\n",
    "\n",
    "window_size = 5\n",
    "target = \"target\""
   ]
  },
  {
   "cell_type": "code",
   "execution_count": 65,
   "id": "d105c6c6",
   "metadata": {},
   "outputs": [
    {
     "data": {
      "text/html": [
       "<div>\n",
       "<style scoped>\n",
       "    .dataframe tbody tr th:only-of-type {\n",
       "        vertical-align: middle;\n",
       "    }\n",
       "\n",
       "    .dataframe tbody tr th {\n",
       "        vertical-align: top;\n",
       "    }\n",
       "\n",
       "    .dataframe thead th {\n",
       "        text-align: right;\n",
       "    }\n",
       "</style>\n",
       "<table border=\"1\" class=\"dataframe\">\n",
       "  <thead>\n",
       "    <tr style=\"text-align: right;\">\n",
       "      <th></th>\n",
       "      <th>time</th>\n",
       "      <th>co2</th>\n",
       "    </tr>\n",
       "  </thead>\n",
       "  <tbody>\n",
       "    <tr>\n",
       "      <th>0</th>\n",
       "      <td>1958-03-29</td>\n",
       "      <td>316.1</td>\n",
       "    </tr>\n",
       "    <tr>\n",
       "      <th>1</th>\n",
       "      <td>1958-04-05</td>\n",
       "      <td>317.3</td>\n",
       "    </tr>\n",
       "    <tr>\n",
       "      <th>2</th>\n",
       "      <td>1958-04-12</td>\n",
       "      <td>317.6</td>\n",
       "    </tr>\n",
       "    <tr>\n",
       "      <th>3</th>\n",
       "      <td>1958-04-19</td>\n",
       "      <td>317.5</td>\n",
       "    </tr>\n",
       "    <tr>\n",
       "      <th>4</th>\n",
       "      <td>1958-04-26</td>\n",
       "      <td>316.4</td>\n",
       "    </tr>\n",
       "  </tbody>\n",
       "</table>\n",
       "</div>"
      ],
      "text/plain": [
       "         time    co2\n",
       "0  1958-03-29  316.1\n",
       "1  1958-04-05  317.3\n",
       "2  1958-04-12  317.6\n",
       "3  1958-04-19  317.5\n",
       "4  1958-04-26  316.4"
      ]
     },
     "execution_count": 65,
     "metadata": {},
     "output_type": "execute_result"
    }
   ],
   "source": [
    "data = pd.read_csv(\"co2.csv\")\n",
    "data.head()"
   ]
  },
  {
   "cell_type": "code",
   "execution_count": 66,
   "id": "d2225f20",
   "metadata": {},
   "outputs": [],
   "source": [
    "data[\"time\"] = pd.to_datetime(data[\"time\"])\n",
    "data[\"co2\"] = data[\"co2\"].interpolate()"
   ]
  },
  {
   "cell_type": "code",
   "execution_count": 67,
   "id": "a2fa865c",
   "metadata": {},
   "outputs": [
    {
     "data": {
      "image/png": "[encoded data removed]",
      "text/plain": [
       "<Figure size 432x288 with 1 Axes>"
      ]
     },
     "metadata": {
      "needs_background": "light"
     },
     "output_type": "display_data"
    }
   ],
   "source": [
    "fig, ax = plt.subplots()\n",
    "ax.plot(data[\"time\"], data[\"co2\"])\n",
    "ax.set_xlabel(\"Year\")\n",
    "ax.set_ylabel(\"CO2\")\n",
    "plt.show()"
   ]
  },
  {
   "cell_type": "code",
   "execution_count": 68,
   "id": "bb8e29b4",
   "metadata": {},
   "outputs": [
    {
     "data": {
      "text/html": [
       "<div>\n",
       "<style scoped>\n",
       "    .dataframe tbody tr th:only-of-type {\n",
       "        vertical-align: middle;\n",
       "    }\n",
       "\n",
       "    .dataframe tbody tr th {\n",
       "        vertical-align: top;\n",
       "    }\n",
       "\n",
       "    .dataframe thead th {\n",
       "        text-align: right;\n",
       "    }\n",
       "</style>\n",
       "<table border=\"1\" class=\"dataframe\">\n",
       "  <thead>\n",
       "    <tr style=\"text-align: right;\">\n",
       "      <th></th>\n",
       "      <th>time</th>\n",
       "      <th>co2</th>\n",
       "      <th>co2_1</th>\n",
       "      <th>co2_2</th>\n",
       "      <th>co2_3</th>\n",
       "      <th>co2_4</th>\n",
       "      <th>target</th>\n",
       "    </tr>\n",
       "  </thead>\n",
       "  <tbody>\n",
       "    <tr>\n",
       "      <th>0</th>\n",
       "      <td>1958-03-29</td>\n",
       "      <td>316.1</td>\n",
       "      <td>317.3</td>\n",
       "      <td>317.6</td>\n",
       "      <td>317.5</td>\n",
       "      <td>316.4</td>\n",
       "      <td>316.90</td>\n",
       "    </tr>\n",
       "    <tr>\n",
       "      <th>1</th>\n",
       "      <td>1958-04-05</td>\n",
       "      <td>317.3</td>\n",
       "      <td>317.6</td>\n",
       "      <td>317.5</td>\n",
       "      <td>316.4</td>\n",
       "      <td>316.9</td>\n",
       "      <td>317.20</td>\n",
       "    </tr>\n",
       "    <tr>\n",
       "      <th>2</th>\n",
       "      <td>1958-04-12</td>\n",
       "      <td>317.6</td>\n",
       "      <td>317.5</td>\n",
       "      <td>316.4</td>\n",
       "      <td>316.9</td>\n",
       "      <td>317.2</td>\n",
       "      <td>317.50</td>\n",
       "    </tr>\n",
       "    <tr>\n",
       "      <th>3</th>\n",
       "      <td>1958-04-19</td>\n",
       "      <td>317.5</td>\n",
       "      <td>316.4</td>\n",
       "      <td>316.9</td>\n",
       "      <td>317.2</td>\n",
       "      <td>317.5</td>\n",
       "      <td>317.90</td>\n",
       "    </tr>\n",
       "    <tr>\n",
       "      <th>4</th>\n",
       "      <td>1958-04-26</td>\n",
       "      <td>316.4</td>\n",
       "      <td>316.9</td>\n",
       "      <td>317.2</td>\n",
       "      <td>317.5</td>\n",
       "      <td>317.9</td>\n",
       "      <td>317.55</td>\n",
       "    </tr>\n",
       "  </tbody>\n",
       "</table>\n",
       "</div>"
      ],
      "text/plain": [
       "        time    co2  co2_1  co2_2  co2_3  co2_4  target\n",
       "0 1958-03-29  316.1  317.3  317.6  317.5  316.4  316.90\n",
       "1 1958-04-05  317.3  317.6  317.5  316.4  316.9  317.20\n",
       "2 1958-04-12  317.6  317.5  316.4  316.9  317.2  317.50\n",
       "3 1958-04-19  317.5  316.4  316.9  317.2  317.5  317.90\n",
       "4 1958-04-26  316.4  316.9  317.2  317.5  317.9  317.55"
      ]
     },
     "execution_count": 68,
     "metadata": {},
     "output_type": "execute_result"
    }
   ],
   "source": [
    "data = create_ts_data(data, target, window_size)\n",
    "data.head()"
   ]
  },
  {
   "cell_type": "code",
   "execution_count": 69,
   "id": "92e6430a",
   "metadata": {},
   "outputs": [],
   "source": [
    "x = data.drop([target,'time'], axis=1)\n",
    "y = data[target]"
   ]
  },
  {
   "cell_type": "code",
   "execution_count": 41,
   "id": "fefd9239",
   "metadata": {},
   "outputs": [],
   "source": [
    "training_ratio = 0.8"
   ]
  },
  {
   "cell_type": "code",
   "execution_count": 70,
   "id": "9cb40591",
   "metadata": {},
   "outputs": [],
   "source": [
    "x_train = x[:int(len(x)*training_ratio)]\n",
    "y_train = y[:int(len(x)*training_ratio)]"
   ]
  },
  {
   "cell_type": "code",
   "execution_count": 71,
   "id": "76ac501b",
   "metadata": {},
   "outputs": [],
   "source": [
    "x_test = x[int(len(x)*training_ratio):]\n",
    "y_test = y[int(len(x)*training_ratio):]"
   ]
  },
  {
   "cell_type": "code",
   "execution_count": 72,
   "id": "0bd6b13c",
   "metadata": {},
   "outputs": [
    {
     "data": {
      "text/plain": [
       "LinearRegression()"
      ]
     },
     "execution_count": 72,
     "metadata": {},
     "output_type": "execute_result"
    }
   ],
   "source": [
    "reg = LinearRegression()\n",
    "reg.fit(x_train, y_train)"
   ]
  },
  {
   "cell_type": "code",
   "execution_count": 73,
   "id": "2704ae3f",
   "metadata": {},
   "outputs": [],
   "source": [
    "y_predict = reg.predict(x_test)"
   ]
  },
  {
   "cell_type": "code",
   "execution_count": 75,
   "id": "5e1618e4",
   "metadata": {},
   "outputs": [
    {
     "name": "stdout",
     "output_type": "stream",
     "text": [
      "MSE 0.2204494736034663\n",
      "MAE 0.3605603788359241\n",
      "R2 0.9907505918201436\n"
     ]
    }
   ],
   "source": [
    "print(\"MSE {}\".format(mean_squared_error(y_test, y_predict)))\n",
    "print(\"MAE {}\".format(mean_absolute_error(y_test, y_predict)))\n",
    "print(\"R2 {}\".format(r2_score(y_test, y_predict)))"
   ]
  },
  {
   "cell_type": "code",
   "execution_count": 61,
   "id": "8327441d",
   "metadata": {},
   "outputs": [
    {
     "data": {
      "image/png": "[encoded data removed]",
      "text/plain": [
       "<Figure size 720x360 with 1 Axes>"
      ]
     },
     "metadata": {
      "needs_background": "light"
     },
     "output_type": "display_data"
    }
   ],
   "source": [
    "fig, ax = plt.subplots(figsize=(10,5))\n",
    "ax.plot(data[\"time\"][:int(len(x)*training_ratio)], data[\"co2\"][:int(len(x)*training_ratio)], label=\"train\")\n",
    "ax.plot(data[\"time\"][int(len(x)*training_ratio):], data[\"co2\"][int(len(x)*training_ratio):], label=\"test\")\n",
    "ax.plot(data[\"time\"][int(len(x)*training_ratio):], y_predict, label=\"prediction\")\n",
    "ax.set_xlabel(\"Year\")\n",
    "ax.set_ylabel(\"CO2\")\n",
    "plt.legend()\n",
    "plt.show()"
   ]
  },
  {
   "cell_type": "code",
   "execution_count": null,
   "id": "a8f5a9e3",
   "metadata": {},
   "outputs": [],
   "source": []
  }
 ],
 "metadata": {
  "kernelspec": {
   "display_name": "Python 3 (ipykernel)",
   "language": "python",
   "name": "python3"
  },
  "language_info": {
   "codemirror_mode": {
    "name": "ipython",
    "version": 3
   },
   "file_extension": ".py",
   "mimetype": "text/x-python",
   "name": "python",
   "nbconvert_exporter": "python",
   "pygments_lexer": "ipython3",
   "version": "3.9.12"
  }
 },
 "nbformat": 4,
 "nbformat_minor": 5
}
